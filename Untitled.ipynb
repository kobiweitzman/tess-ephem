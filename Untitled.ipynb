{
 "cells": [
  {
   "cell_type": "code",
   "execution_count": 1,
   "id": "35f20a61-3e6a-49e9-86d9-fcac19364ffe",
   "metadata": {},
   "outputs": [
    {
     "name": "stdout",
     "output_type": "stream",
     "text": [
      "Python: 3.10.18\n",
      "Lightkurve: 2.5.0\n",
      "Folders ready ✅\n"
     ]
    }
   ],
   "source": [
    "import json, pathlib, sys\n",
    "import numpy as np, pandas as pd\n",
    "import matplotlib.pyplot as plt\n",
    "\n",
    "import lightkurve as lk\n",
    "from transitleastsquares import transitleastsquares\n",
    "\n",
    "print(\"Python:\", sys.version.split()[0])\n",
    "print(\"Lightkurve:\", lk.__version__)\n",
    "for p in [\"figures\", \"results\", \"data_raw\", \"notebooks\"]:\n",
    "    pathlib.Path(p).mkdir(exist_ok=True)\n",
    "print(\"Folders ready ✅\")"
   ]
  },
  {
   "cell_type": "code",
   "execution_count": null,
   "id": "94795adb-701d-4b73-9752-8ab8418f7ec3",
   "metadata": {},
   "outputs": [
    {
     "name": "stdout",
     "output_type": "stream",
     "text": [
      "Sectors found: [1, 3, 4, 5, 6, 7, 8, 9, 10, 11] … total 34\n"
     ]
    }
   ],
   "source": [
    "TARGET = \"TOI 700\"\n",
    "\n",
    "# 1) List sectors (works fast; you already did this)\n",
    "sr_all = lk.search_lightcurve(TARGET, mission=\"TESS\", author=\"SPOC\")\n",
    "available = sorted({int(str(m).split()[-1]) for m in sr_all.table[\"mission\"]})\n",
    "print(\"Sectors found:\", available[:10], \"… total\", len(available))\n",
    "\n",
    "sector = available[0]  # try the first; you can change this to available[1] if needed\n",
    "\n",
    "# 2) Fallback: get a small cutout from TESS FFIs and make our own light curve\n",
    "from lightkurve import search_tesscut\n",
    "tpf = search_tesscut(TARGET, sector=sector).download(cutout_size=15)  # 15x15 pixels\n",
    "mask = tpf.create_threshold_mask(threshold=3)  # simple aperture around the star\n",
    "lc = tpf.to_lightcurve(aperture_mask=mask)\n",
    "\n",
    "ax = lc.plot()\n",
    "ax.set_title(f\"{TARGET} — SAP from TESSCut (Sector {sector})\"); ax.figure.tight_layout()"
   ]
  },
  {
   "cell_type": "code",
   "execution_count": null,
   "id": "4b213a0c-3af8-48e1-9704-0bfe62a954e3",
   "metadata": {},
   "outputs": [],
   "source": []
  }
 ],
 "metadata": {
  "kernelspec": {
   "display_name": "Python (tess-ephem)",
   "language": "python",
   "name": "tess-ephem"
  },
  "language_info": {
   "codemirror_mode": {
    "name": "ipython",
    "version": 3
   },
   "file_extension": ".py",
   "mimetype": "text/x-python",
   "name": "python",
   "nbconvert_exporter": "python",
   "pygments_lexer": "ipython3",
   "version": "3.10.18"
  }
 },
 "nbformat": 4,
 "nbformat_minor": 5
}
