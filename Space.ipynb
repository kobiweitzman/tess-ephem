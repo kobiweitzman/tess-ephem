{
 "cells": [
  {
   "cell_type": "code",
   "execution_count": 2,
   "id": "c2a93dec-7349-4254-bd67-fdd9f4fe58ef",
   "metadata": {},
   "outputs": [
    {
     "name": "stdout",
     "output_type": "stream",
     "text": [
      "Kernel: /Users/kobi.weitzman/miniforge3/envs/tess-ephem/bin/python\n",
      "CWD: /Users/kobi.weitzman/Documents/tess-ephem\n",
      "OK: imports worked\n"
     ]
    }
   ],
   "source": [
    "import sys, os\n",
    "print(\"Kernel:\", sys.executable)\n",
    "print(\"CWD:\", os.getcwd())\n",
    "\n",
    "import numpy as np, pandas as pd, astropy, matplotlib\n",
    "import lightkurve as lk\n",
    "import astroquery, astrocut\n",
    "import transitleastsquares as tls\n",
    "print(\"OK: imports worked\")\n"
   ]
  },
  {
   "cell_type": "code",
   "execution_count": 3,
   "id": "8458c81d-8739-499f-b452-2a0ec2994be5",
   "metadata": {},
   "outputs": [
    {
     "data": {
      "text/html": [
       "SearchResult containing 5 data products.\n",
       "\n",
       "<table id=\"table5991604016\">\n",
       "<thead><tr><th>#</th><th>mission</th><th>year</th><th>author</th><th>exptime</th><th>target_name</th><th>distance</th></tr></thead>\n",
       "<thead><tr><th></th><th></th><th></th><th></th><th>s</th><th></th><th>arcsec</th></tr></thead>\n",
       "<tr><td>0</td><td>TESS Sector 05</td><td>2018</td><td><a href='https://heasarc.gsfc.nasa.gov/docs/tess/pipeline.html'>SPOC</a></td><td>120</td><td>307210830</td><td>0.0</td></tr>\n",
       "<tr><td>1</td><td>TESS Sector 02</td><td>2018</td><td><a href='https://heasarc.gsfc.nasa.gov/docs/tess/pipeline.html'>SPOC</a></td><td>120</td><td>307210830</td><td>0.0</td></tr>\n",
       "<tr><td>2</td><td>TESS Sector 08</td><td>2019</td><td><a href='https://heasarc.gsfc.nasa.gov/docs/tess/pipeline.html'>SPOC</a></td><td>120</td><td>307210830</td><td>0.0</td></tr>\n",
       "<tr><td>3</td><td>TESS Sector 12</td><td>2019</td><td><a href='https://heasarc.gsfc.nasa.gov/docs/tess/pipeline.html'>SPOC</a></td><td>120</td><td>307210830</td><td>0.0</td></tr>\n",
       "<tr><td>4</td><td>TESS Sector 09</td><td>2019</td><td><a href='https://heasarc.gsfc.nasa.gov/docs/tess/pipeline.html'>SPOC</a></td><td>120</td><td>307210830</td><td>0.0</td></tr>\n",
       "</table>"
      ],
      "text/plain": [
       "SearchResult containing 5 data products.\n",
       "\n",
       " #     mission     year author exptime target_name distance\n",
       "                                  s                 arcsec \n",
       "--- -------------- ---- ------ ------- ----------- --------\n",
       "  0 TESS Sector 05 2018   SPOC     120   307210830      0.0\n",
       "  1 TESS Sector 02 2018   SPOC     120   307210830      0.0\n",
       "  2 TESS Sector 08 2019   SPOC     120   307210830      0.0\n",
       "  3 TESS Sector 12 2019   SPOC     120   307210830      0.0\n",
       "  4 TESS Sector 09 2019   SPOC     120   307210830      0.0"
      ]
     },
     "execution_count": 3,
     "metadata": {},
     "output_type": "execute_result"
    }
   ],
   "source": [
    "import lightkurve as lk\n",
    "sr = lk.search_lightcurve(\"TIC 307210830\", mission=\"TESS\")\n",
    "sr[:5]\n"
   ]
  },
  {
   "cell_type": "code",
   "execution_count": 4,
   "id": "d9684c85-dcf6-4c7f-ac1e-3fe3c2bb0c8e",
   "metadata": {},
   "outputs": [
    {
     "name": "stdout",
     "output_type": "stream",
     "text": [
      "Found 57 light-curve files\n"
     ]
    },
    {
     "data": {
      "text/html": [
       "SearchResult containing 5 data products.\n",
       "\n",
       "<table id=\"table5992724224\">\n",
       "<thead><tr><th>#</th><th>mission</th><th>year</th><th>author</th><th>exptime</th><th>target_name</th><th>distance</th></tr></thead>\n",
       "<thead><tr><th></th><th></th><th></th><th></th><th>s</th><th></th><th>arcsec</th></tr></thead>\n",
       "<tr><td>0</td><td>TESS Sector 01</td><td>2018</td><td><a href='https://heasarc.gsfc.nasa.gov/docs/tess/pipeline.html'>SPOC</a></td><td>120</td><td>150428135</td><td>0.0</td></tr>\n",
       "<tr><td>1</td><td>TESS Sector 03</td><td>2018</td><td><a href='https://heasarc.gsfc.nasa.gov/docs/tess/pipeline.html'>SPOC</a></td><td>120</td><td>150428135</td><td>0.0</td></tr>\n",
       "<tr><td>2</td><td>TESS Sector 04</td><td>2018</td><td><a href='https://heasarc.gsfc.nasa.gov/docs/tess/pipeline.html'>SPOC</a></td><td>120</td><td>150428135</td><td>0.0</td></tr>\n",
       "<tr><td>3</td><td>TESS Sector 05</td><td>2018</td><td><a href='https://heasarc.gsfc.nasa.gov/docs/tess/pipeline.html'>SPOC</a></td><td>120</td><td>150428135</td><td>0.0</td></tr>\n",
       "<tr><td>4</td><td>TESS Sector 06</td><td>2018</td><td><a href='https://heasarc.gsfc.nasa.gov/docs/tess/pipeline.html'>SPOC</a></td><td>120</td><td>150428135</td><td>0.0</td></tr>\n",
       "</table>"
      ],
      "text/plain": [
       "SearchResult containing 5 data products.\n",
       "\n",
       " #     mission     year author exptime target_name distance\n",
       "                                  s                 arcsec \n",
       "--- -------------- ---- ------ ------- ----------- --------\n",
       "  0 TESS Sector 01 2018   SPOC     120   150428135      0.0\n",
       "  1 TESS Sector 03 2018   SPOC     120   150428135      0.0\n",
       "  2 TESS Sector 04 2018   SPOC     120   150428135      0.0\n",
       "  3 TESS Sector 05 2018   SPOC     120   150428135      0.0\n",
       "  4 TESS Sector 06 2018   SPOC     120   150428135      0.0"
      ]
     },
     "execution_count": 4,
     "metadata": {},
     "output_type": "execute_result"
    }
   ],
   "source": [
    "import lightkurve as lk\n",
    "\n",
    "# Search all TESS SPOC light curves for the star \"TOI 700\"\n",
    "sr = lk.search_lightcurve(\"TOI 700\", mission=\"TESS\", author=\"SPOC\")\n",
    "print(f\"Found {len(sr)} light-curve files\")\n",
    "sr[:5]  # show a few rows\n"
   ]
  },
  {
   "cell_type": "code",
   "execution_count": 6,
   "id": "f41b4a9c-ff59-415f-9e50-759d5de374fc",
   "metadata": {},
   "outputs": [
    {
     "data": {
      "image/png": "[encoded data removed]",
      "text/plain": [
       "<Figure size 848.5x400 with 1 Axes>"
      ]
     },
     "metadata": {},
     "output_type": "display_data"
    }
   ],
   "source": [
    "# Single-sector download (fast). Change sector number if you like.\n",
    "import lightkurve as lk  # harmless to repeat; OK if already imported\n",
    "\n",
    "sector = 5\n",
    "lc = lk.search_lightcurve(\"TOI 700\", mission=\"TESS\", author=\"SPOC\", sector=sector) \\\n",
    "        .download(quality_bitmask=\"default\", download_dir=\"data_raw\")\n",
    "\n",
    "ax = lc.plot(label=f\"PDCSAP sector {sector}\")\n",
    "ax.set_title(f\"TOI 700 — raw PDCSAP (Sector {sector})\"); ax.figure.tight_layout()\n"
   ]
  },
  {
   "cell_type": "code",
   "execution_count": 7,
   "id": "798e1e6e-6b5b-4515-8e63-538a0ee8bfc0",
   "metadata": {},
   "outputs": [
    {
     "name": "stdout",
     "output_type": "stream",
     "text": [
      "Transit Least Squares TLS 1.32 (5 Apr 2024)\n",
      "Creating model cache for 37 durations\n",
      "Searching 16983 data points, 2285 periods from 0.601 to 12.69 days\n",
      "Using all 8 CPU threads\n"
     ]
    },
    {
     "name": "stderr",
     "output_type": "stream",
     "text": [
      "100%|████████████████████████████████████████████████████████████████| 2285/2285 periods | 00:17<00:00\n"
     ]
    },
    {
     "name": "stdout",
     "output_type": "stream",
     "text": [
      "Searching for best T0 for period 3.98655 days\n"
     ]
    },
    {
     "name": "stderr",
     "output_type": "stream",
     "text": [
      "100%|█████████████████████████████████████████████████████████| 16983/16983 [00:03<00:00, 4913.11it/s]\n",
      "/Users/kobi.weitzman/miniforge3/envs/tess-ephem/lib/python3.10/site-packages/astropy/utils/decorators.py:603: LightkurveDeprecationWarning: \"t0\" was deprecated in version 2.0 and will be removed in a future version. Use argument \"epoch_time\" instead.\n",
      "  return function(*args, **kwargs)\n"
     ]
    },
    {
     "name": "stdout",
     "output_type": "stream",
     "text": [
      "TLS best period: 3.986554 d (SDE=5.57)\n"
     ]
    }
   ],
   "source": [
    "clean = lc.remove_nans().remove_outliers(sigma=5)\n",
    "flat  = clean.flatten(window_length=201, polyorder=2)\n",
    "\n",
    "ax = flat.plot(); ax.set_title(\"Flattened\"); ax.figure.tight_layout()\n",
    "\n",
    "from transitleastsquares import transitleastsquares\n",
    "time = flat.time.value; flux = flat.flux.value\n",
    "res = transitleastsquares(time, flux).power(period_min=0.5, period_max=30.0)\n",
    "print(f\"TLS best period: {res.period:.6f} d (SDE={res.SDE:.2f})\")\n",
    "\n",
    "ax = flat.fold(period=res.period, t0=res.T0).plot()\n",
    "ax.set_title(f\"TLS fold: P={res.period:.4f} d\"); ax.figure.tight_layout()\n"
   ]
  },
  {
   "cell_type": "code",
   "execution_count": 8,
   "id": "fd3777b7-5685-4b4b-93c8-c7214f5963f6",
   "metadata": {},
   "outputs": [
    {
     "name": "stdout",
     "output_type": "stream",
     "text": [
      "Transit Least Squares TLS 1.32 (5 Apr 2024)\n",
      "Creating model cache for 42 durations\n",
      "Searching 31465 data points, 5225 periods from 0.602 to 25.92 days\n",
      "Using all 8 CPU threads\n"
     ]
    },
    {
     "name": "stderr",
     "output_type": "stream",
     "text": [
      "100%|████████████████████████████████████████████████████████████████| 5225/5225 periods | 00:50<00:00\n"
     ]
    },
    {
     "name": "stdout",
     "output_type": "stream",
     "text": [
      "Searching for best T0 for period 16.05333 days\n"
     ]
    },
    {
     "name": "stderr",
     "output_type": "stream",
     "text": [
      "100%|█████████████████████████████████████████████████████████| 28346/28346 [00:09<00:00, 3043.63it/s]\n"
     ]
    },
    {
     "name": "stdout",
     "output_type": "stream",
     "text": [
      "Two-sector TLS: 16.053327 d (SDE=22.53)\n"
     ]
    },
    {
     "name": "stderr",
     "output_type": "stream",
     "text": [
      "/Users/kobi.weitzman/miniforge3/envs/tess-ephem/lib/python3.10/site-packages/astropy/utils/decorators.py:603: LightkurveDeprecationWarning: \"t0\" was deprecated in version 2.0 and will be removed in a future version. Use argument \"epoch_time\" instead.\n",
      "  return function(*args, **kwargs)\n"
     ]
    }
   ],
   "source": [
    "sectors = [5, 6]  # change these if you want\n",
    "lcs = [lk.search_lightcurve(\"TOI 700\", mission=\"TESS\", author=\"SPOC\", sector=s)\n",
    "          .download(quality_bitmask=\"default\", download_dir=\"data_raw\")\n",
    "       for s in sectors]\n",
    "from lightkurve import LightCurveCollection\n",
    "lc2 = LightCurveCollection(lcs).stitch()\n",
    "\n",
    "flat2 = lc2.remove_nans().remove_outliers().flatten(window_length=201, polyorder=2)\n",
    "from transitleastsquares import transitleastsquares\n",
    "res2 = transitleastsquares(flat2.time.value, flat2.flux.value).power(period_min=0.5, period_max=30.0)\n",
    "print(f\"Two-sector TLS: {res2.period:.6f} d (SDE={res2.SDE:.2f})\")\n",
    "flat2.fold(period=res2.period, t0=res2.T0).plot();\n"
   ]
  },
  {
   "cell_type": "code",
   "execution_count": 9,
   "id": "8248f176-2847-4e65-94d0-e0407256004a",
   "metadata": {},
   "outputs": [
    {
     "name": "stdout",
     "output_type": "stream",
     "text": [
      "CPU times: user 6 μs, sys: 31 μs, total: 37 μs\n",
      "Wall time: 37 μs\n",
      "CPU times: user 68.3 ms, sys: 28.2 ms, total: 96.5 ms\n",
      "Wall time: 136 ms\n",
      "CPU times: user 26.4 ms, sys: 4.05 ms, total: 30.5 ms\n",
      "Wall time: 34 ms\n",
      "CPU times: user 22.8 ms, sys: 4.38 ms, total: 27.2 ms\n",
      "Wall time: 34.9 ms\n",
      "Transit Least Squares TLS 1.32 (5 Apr 2024)\n",
      "Creating model cache for 37 durations\n",
      "Searching 16983 data points, 2285 periods from 0.601 to 12.69 days\n",
      "Using all 8 CPU threads\n"
     ]
    },
    {
     "name": "stderr",
     "output_type": "stream",
     "text": [
      "100%|████████████████████████████████████████████████████████████████| 2285/2285 periods | 00:14<00:00\n"
     ]
    },
    {
     "name": "stdout",
     "output_type": "stream",
     "text": [
      "Searching for best T0 for period 3.98655 days\n"
     ]
    },
    {
     "name": "stderr",
     "output_type": "stream",
     "text": [
      "100%|█████████████████████████████████████████████████████████| 16983/16983 [00:03<00:00, 4654.54it/s]\n"
     ]
    },
    {
     "name": "stdout",
     "output_type": "stream",
     "text": [
      "CPU times: user 5.17 s, sys: 739 ms, total: 5.91 s\n",
      "Wall time: 18.8 s\n",
      "3.986554272425962 5.57418684524922\n"
     ]
    }
   ],
   "source": [
    "# 1) Import timing\n",
    "%time import lightkurve as lk\n",
    "\n",
    "# 2) Single-sector quick download (cached to data_raw)\n",
    "sector = 5\n",
    "%time lc = lk.search_lightcurve(\"TOI 700\", mission=\"TESS\", author=\"SPOC\", sector=sector)\\\n",
    "              .download(quality_bitmask=\"default\", download_dir=\"data_raw\")\n",
    "\n",
    "# 3) Clean + flatten\n",
    "%time clean = lc.remove_nans().remove_outliers(sigma=5)\n",
    "%time flat  = clean.flatten(window_length=201, polyorder=2)\n",
    "\n",
    "# 4) TLS timing (first call will be slower due to JIT compilation)\n",
    "from transitleastsquares import transitleastsquares\n",
    "time = flat.time.value; flux = flat.flux.value\n",
    "%time res = transitleastsquares(time, flux).power(period_min=0.5, period_max=30.0)\n",
    "print(res.period, res.SDE)\n"
   ]
  },
  {
   "cell_type": "code",
   "execution_count": 12,
   "id": "3274a667-b05f-44ea-9c38-94b550b5dad1",
   "metadata": {},
   "outputs": [
    {
     "name": "stdout",
     "output_type": "stream",
     "text": [
      "Transit Least Squares TLS 1.32 (5 Apr 2024)\n",
      "Creating model cache for 37 durations\n",
      "Searching 16983 data points, 2285 periods from 0.601 to 12.69 days\n",
      "Using all 8 CPU threads\n"
     ]
    },
    {
     "name": "stderr",
     "output_type": "stream",
     "text": [
      "100%|████████████████████████████████████████████████████████████████| 2285/2285 periods | 00:15<00:00\n"
     ]
    },
    {
     "name": "stdout",
     "output_type": "stream",
     "text": [
      "Searching for best T0 for period 3.98655 days\n"
     ]
    },
    {
     "name": "stderr",
     "output_type": "stream",
     "text": [
      "100%|█████████████████████████████████████████████████████████| 16983/16983 [00:03<00:00, 4901.36it/s]\n"
     ]
    },
    {
     "name": "stdout",
     "output_type": "stream",
     "text": [
      "TLS best period: 3.986554 d, SDE=5.57\n"
     ]
    }
   ],
   "source": [
    "import lightkurve as lk\n",
    "\n",
    "# 1) One sector only (fast). Change the sector number if needed.\n",
    "sector = 5\n",
    "lc = lk.search_lightcurve(\"TOI 700\", mission=\"TESS\", author=\"SPOC\", sector=sector)\\\n",
    "        .download(quality_bitmask=\"default\", download_dir=\"data_raw\")\n",
    "\n",
    "# 2) Clean + flatten\n",
    "clean = lc.remove_nans().remove_outliers(sigma=5)\n",
    "flat  = clean.flatten(window_length=201, polyorder=2)\n",
    "flat.plot(title=\"TOI 700 — flattened (ready for search)\");\n",
    "\n",
    "# 3) TLS search (find the period)\n",
    "from transitleastsquares import transitleastsquares\n",
    "time = flat.time.value   # BTJD (TESS time)\n",
    "flux = flat.flux.value\n",
    "res  = transitleastsquares(time, flux).power(period_min=0.5, period_max=30.0)\n",
    "print(f\"TLS best period: {res.period:.6f} d, SDE={res.SDE:.2f}\")\n",
    "\n",
    "# 4) Fold & visually confirm\n",
    "folded = flat.fold(period=res.period, epoch_time=res.T0)  # ← use epoch_time\n",
    "binned = folded.bin(n_bins=200)\n",
    "ax = folded.scatter(marker='.', s=3, alpha=0.3, label='unbinned')\n",
    "binned.plot(ax=ax, label='binned (200)')\n",
    "ax.set_title(f\"Folded at P={res.period:.5f} d (TLS)\")\n",
    "ax.set_xlabel(\"Phase [days]\"); ax.set_ylabel(\"Relative flux\")\n",
    "ax.legend(); ax.figure.tight_layout()"
   ]
  },
  {
   "cell_type": "code",
   "execution_count": 13,
   "id": "89f74683-b429-4a60-91f3-fb8e8725648b",
   "metadata": {},
   "outputs": [
    {
     "name": "stdout",
     "output_type": "stream",
     "text": [
      "P=3.986554 d, T0(BTJD)=1440.471587, duration≈0.40 h, depth≈999343 ppm\n"
     ]
    }
   ],
   "source": [
    "P_days   = res.period                 # period (days) — how often the transit repeats\n",
    "T0_btjd  = res.T0                     # reference mid-time in BTJD (TESS's time axis)\n",
    "dur_hrs  = res.duration * 24          # transit duration (hours)\n",
    "depth_ppm= res.depth * 1e6            # transit depth (ppm). sqrt(depth) ~ Rp/R*\n",
    "print(f\"P={P_days:.6f} d, T0(BTJD)={T0_btjd:.6f}, duration≈{dur_hrs:.2f} h, depth≈{depth_ppm:.0f} ppm\")\n"
   ]
  },
  {
   "cell_type": "code",
   "execution_count": 14,
   "id": "0a60ba51-b9bf-4eb8-9c36-65c7d9edd13a",
   "metadata": {},
   "outputs": [
    {
     "name": "stdout",
     "output_type": "stream",
     "text": [
      "Transit 1: 2018-11-21 22:58:34.244 (UTC)\n",
      "Transit 2: 2018-11-25 22:39:12.533 (UTC)\n",
      "Transit 3: 2018-11-29 22:19:50.822 (UTC)\n"
     ]
    }
   ],
   "source": [
    "from astropy.time import Time\n",
    "\n",
    "def btjd_to_utc_iso(btjd):\n",
    "    t = Time(btjd + 2457000.0, format='jd', scale='tdb')  # TESS convention\n",
    "    return t.utc.iso\n",
    "\n",
    "for n in range(1, 4):\n",
    "    when = btjd_to_utc_iso(T0_btjd + n*P_days)\n",
    "    print(f\"Transit {n}: {when} (UTC)\")"
   ]
  },
  {
   "cell_type": "code",
   "execution_count": 15,
   "id": "49e6dc2a-08a9-4180-902f-373e338f32b6",
   "metadata": {},
   "outputs": [
    {
     "name": "stderr",
     "output_type": "stream",
     "text": [
      "/Users/kobi.weitzman/miniforge3/envs/tess-ephem/lib/python3.10/site-packages/transitleastsquares/grid.py:149: UserWarning: period_grid defaults to R_star=1 and M_star=1 as given density yielded grid with too few values\n",
      "  warnings.warn(\n"
     ]
    },
    {
     "name": "stdout",
     "output_type": "stream",
     "text": [
      "Transit Least Squares TLS 1.32 (5 Apr 2024)\n",
      "Creating model cache for 37 durations\n",
      "Searching 16983 data points, 2285 periods from 0.601 to 12.69 days\n",
      "Using all 8 CPU threads\n"
     ]
    },
    {
     "name": "stderr",
     "output_type": "stream",
     "text": [
      "100%|████████████████████████████████████████████████████████████████| 2285/2285 periods | 00:14<00:00\n"
     ]
    },
    {
     "name": "stdout",
     "output_type": "stream",
     "text": [
      "Searching for best T0 for period 3.98655 days\n"
     ]
    },
    {
     "name": "stderr",
     "output_type": "stream",
     "text": [
      "100%|█████████████████████████████████████████████████████████| 16983/16983 [00:03<00:00, 5026.34it/s]\n"
     ]
    },
    {
     "name": "stdout",
     "output_type": "stream",
     "text": [
      "Refined: P=3.986554 d, SDE=5.57\n"
     ]
    }
   ],
   "source": [
    "from transitleastsquares import transitleastsquares\n",
    "half = 0.05 * P_days\n",
    "res_ref = transitleastsquares(flat.time.value, flat.flux.value).power(\n",
    "    period_min=P_days - half, period_max=P_days + half\n",
    ")\n",
    "print(f\"Refined: P={res_ref.period:.6f} d, SDE={res_ref.SDE:.2f}\")\n"
   ]
  },
  {
   "cell_type": "code",
   "execution_count": 16,
   "id": "620dfa69-acf5-4506-a2c5-1b73359c8477",
   "metadata": {},
   "outputs": [
    {
     "name": "stdout",
     "output_type": "stream",
     "text": [
      "Transit Least Squares TLS 1.32 (5 Apr 2024)\n",
      "Creating model cache for 42 durations\n",
      "Searching 31465 data points, 5225 periods from 0.602 to 25.92 days\n",
      "Using all 8 CPU threads\n"
     ]
    },
    {
     "name": "stderr",
     "output_type": "stream",
     "text": [
      "100%|████████████████████████████████████████████████████████████████| 5225/5225 periods | 00:34<00:00\n"
     ]
    },
    {
     "name": "stdout",
     "output_type": "stream",
     "text": [
      "Searching for best T0 for period 16.05333 days\n"
     ]
    },
    {
     "name": "stderr",
     "output_type": "stream",
     "text": [
      "100%|█████████████████████████████████████████████████████████| 28346/28346 [00:08<00:00, 3483.83it/s]\n"
     ]
    },
    {
     "name": "stdout",
     "output_type": "stream",
     "text": [
      "Two sectors: P=16.053327 d, SDE=22.53\n"
     ]
    }
   ],
   "source": [
    "import lightkurve as lk\n",
    "sectors = [5, 6]  # pick two that exist for your star\n",
    "lcs = [lk.search_lightcurve(\"TOI 700\", mission=\"TESS\", author=\"SPOC\", sector=s)\n",
    "         .download(quality_bitmask=\"default\", download_dir=\"data_raw\")\n",
    "       for s in sectors]\n",
    "from lightkurve import LightCurveCollection\n",
    "lc2 = LightCurveCollection(lcs).stitch()\n",
    "flat2 = lc2.remove_nans().remove_outliers(sigma=5).flatten(window_length=201, polyorder=2)\n",
    "\n",
    "res2 = transitleastsquares(flat2.time.value, flat2.flux.value).power(period_min=0.5, period_max=30.0)\n",
    "print(f\"Two sectors: P={res2.period:.6f} d, SDE={res2.SDE:.2f}\")\n",
    "flat2.fold(period=res2.period, epoch_time=res2.T0).bin(n_bins=200).plot();"
   ]
  },
  {
   "cell_type": "code",
   "execution_count": 17,
   "id": "370cac64-f7ce-4e88-8b7d-9b9bbf553ea8",
   "metadata": {},
   "outputs": [
    {
     "name": "stdout",
     "output_type": "stream",
     "text": [
      "P2 / P1 ≈ 4.0268680670072445\n"
     ]
    }
   ],
   "source": [
    "P1 = 3.986554     # first run\n",
    "P2 = 16.053327    # two-sector run\n",
    "print(\"P2 / P1 ≈\", P2 / P1)  # should be ~4.0\n"
   ]
  },
  {
   "cell_type": "code",
   "execution_count": 18,
   "id": "038916ac-cf8b-4b07-bc6a-f5b059773eec",
   "metadata": {},
   "outputs": [],
   "source": [
    "P = res2.period        # ≈ 16.053327 days\n",
    "T0 = res2.T0           # reference mid-time in BTJD\n",
    "folded = flat2.fold(period=P, epoch_time=T0)  # use epoch_time in Lightkurve v2\n",
    "binned  = folded.bin(n_bins=200)\n",
    "\n",
    "ax = folded.scatter(marker='.', s=3, alpha=0.25, label='unbinned')\n",
    "binned.plot(ax=ax, label='binned (200)')\n",
    "ax.set_title(f\"Folded at P={P:.6f} d (two sectors)\")\n",
    "ax.set_xlabel(\"Phase [days]\"); ax.set_ylabel(\"Relative flux\"); ax.legend(); ax.figure.tight_layout()\n"
   ]
  },
  {
   "cell_type": "code",
   "execution_count": 19,
   "id": "8149c43f-c170-41f0-88f6-76ba031df126",
   "metadata": {},
   "outputs": [
    {
     "name": "stdout",
     "output_type": "stream",
     "text": [
      "P=16.053327 d, T0(BTJD)=1452.441755, duration≈1.24 h, depth≈998462 ppm\n"
     ]
    }
   ],
   "source": [
    "dur_hrs   = res2.duration * 24\n",
    "depth_ppm = res2.depth * 1e6\n",
    "print(f\"P={P:.6f} d, T0(BTJD)={T0:.6f}, duration≈{dur_hrs:.2f} h, depth≈{depth_ppm:.0f} ppm\")\n"
   ]
  },
  {
   "cell_type": "code",
   "execution_count": 20,
   "id": "215dea47-cfd0-406f-98fe-f4e5257611ee",
   "metadata": {},
   "outputs": [
    {
     "name": "stdout",
     "output_type": "stream",
     "text": [
      "Transit 1: 2018-12-15 23:51:45.924 (UTC)\n",
      "Transit 2: 2019-01-01 01:08:33.407 (UTC)\n",
      "Transit 3: 2019-01-17 02:25:20.890 (UTC)\n"
     ]
    }
   ],
   "source": [
    "from astropy.time import Time\n",
    "\n",
    "def btjd_to_utc(btjd):\n",
    "    return Time(btjd + 2457000.0, format='jd', scale='tdb').utc.iso\n",
    "\n",
    "for n in range(1, 4):\n",
    "    print(f\"Transit {n}: {btjd_to_utc(T0 + n*P)} (UTC)\")\n"
   ]
  },
  {
   "cell_type": "code",
   "execution_count": 21,
   "id": "8a9e98d7-2f2c-4856-b8d0-8c4c62906f7a",
   "metadata": {},
   "outputs": [
    {
     "name": "stderr",
     "output_type": "stream",
     "text": [
      "/Users/kobi.weitzman/miniforge3/envs/tess-ephem/lib/python3.10/site-packages/transitleastsquares/grid.py:149: UserWarning: period_grid defaults to R_star=1 and M_star=1 as given density yielded grid with too few values\n",
      "  warnings.warn(\n"
     ]
    },
    {
     "name": "stdout",
     "output_type": "stream",
     "text": [
      "Transit Least Squares TLS 1.32 (5 Apr 2024)\n",
      "Creating model cache for 42 durations\n",
      "Searching 31465 data points, 5225 periods from 0.602 to 25.92 days\n",
      "Using all 8 CPU threads\n"
     ]
    },
    {
     "name": "stderr",
     "output_type": "stream",
     "text": [
      "100%|████████████████████████████████████████████████████████████████| 5225/5225 periods | 00:46<00:00\n"
     ]
    },
    {
     "name": "stdout",
     "output_type": "stream",
     "text": [
      "Searching for best T0 for period 16.05333 days\n"
     ]
    },
    {
     "name": "stderr",
     "output_type": "stream",
     "text": [
      "100%|█████████████████████████████████████████████████████████| 28346/28346 [00:09<00:00, 3099.61it/s]\n"
     ]
    },
    {
     "name": "stdout",
     "output_type": "stream",
     "text": [
      "Refined: P=16.053327 d, SDE=22.53\n"
     ]
    }
   ],
   "source": [
    "# Refine ±3% around the peak\n",
    "from transitleastsquares import transitleastsquares\n",
    "half = 0.03 * P\n",
    "ref   = transitleastsquares(flat2.time.value, flat2.flux.value).power(\n",
    "          period_min=P-half, period_max=P+half)\n",
    "P, T0 = ref.period, ref.T0\n",
    "print(f\"Refined: P={P:.6f} d, SDE={ref.SDE:.2f}\")\n",
    "\n",
    "# Save the folded figure\n",
    "import pathlib\n",
    "pathlib.Path(\"figures\").mkdir(exist_ok=True)\n",
    "folded = flat2.fold(period=P, epoch_time=T0).bin(n_bins=200).plot()\n",
    "folded.figure.savefig(\"figures/target_folded_two_sectors.png\", dpi=150)\n"
   ]
  },
  {
   "cell_type": "code",
   "execution_count": null,
   "id": "9d79399d-8d92-4b1a-b3f9-e29eb56ee9f0",
   "metadata": {},
   "outputs": [],
   "source": []
  }
 ],
 "metadata": {
  "kernelspec": {
   "display_name": "Python (tess-ephem)",
   "language": "python",
   "name": "tess-ephem"
  },
  "language_info": {
   "codemirror_mode": {
    "name": "ipython",
    "version": 3
   },
   "file_extension": ".py",
   "mimetype": "text/x-python",
   "name": "python",
   "nbconvert_exporter": "python",
   "pygments_lexer": "ipython3",
   "version": "3.10.18"
  }
 },
 "nbformat": 4,
 "nbformat_minor": 5
}
